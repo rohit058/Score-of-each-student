{
  "nbformat": 4,
  "nbformat_minor": 0,
  "metadata": {
    "colab": {
      "provenance": []
    },
    "kernelspec": {
      "name": "python3",
      "display_name": "Python 3"
    },
    "language_info": {
      "name": "python"
    }
  },
  "cells": [
    {
      "cell_type": "code",
      "source": [
        "import numpy as np\n",
        "import pandas as pd\n",
        "import matplotlib.pyplot as plt\n",
        "import seaborn as sns\n",
        "import warnings\n",
        "warnings.filterwarnings('ignore')"
      ],
      "metadata": {
        "id": "kYhLeusp4cHe"
      },
      "execution_count": 2,
      "outputs": []
    },
    {
      "cell_type": "markdown",
      "source": [
        "**Creating portal where need to store student names & their GPA also search the result by using student name.**"
      ],
      "metadata": {
        "id": "U0_IHqR35i0d"
      }
    },
    {
      "cell_type": "code",
      "execution_count": 3,
      "metadata": {
        "colab": {
          "base_uri": "https://localhost:8080/"
        },
        "id": "gNro_PCJz0Do",
        "outputId": "9c073831-ce41-467a-87e6-f7de096211f6"
      },
      "outputs": [
        {
          "output_type": "stream",
          "name": "stdout",
          "text": [
            "Welcome to Dictionaries Quiz!\n",
            "Please enter the students last name: Mondal\n",
            "Please enter the GPA for the student: 7\n",
            "Would you like to add another student (y/n): y\n",
            "Please enter the students last name: das\n",
            "Please enter the GPA for the student: 6\n",
            "Would you like to add another student (y/n): y\n",
            "Please enter the students last name: Chowdhury\n",
            "Please enter the GPA for the student: 9\n",
            "Would you like to add another student (y/n): n\n",
            "\n",
            "Mondal has a 7 for the course.\n",
            "das has a 6 for the course.\n",
            "Chowdhury has a 9 for the course.\n",
            "\n",
            "Which student would you like to search for: Chowdhury\n",
            "The students current GPA is: 9\n"
          ]
        }
      ],
      "source": [
        "# Create and store the data\n",
        "GPA_per_student = {}\n",
        "\n",
        "# Welcome the user\n",
        "print(\"Welcome to Dictionaries Quiz!\")\n",
        "\n",
        "# Use a loop to ask the user to enter students\n",
        "choice = \"\"\n",
        "while choice != \"n\":\n",
        "  # Ask user for student's last name and GPA\n",
        "  last_name = input(\"Please enter the students last name: \")\n",
        "  gpa = input(\"Please enter the GPA for the student: \")\n",
        "\n",
        "  # Add the student to the dictionary\n",
        "  GPA_per_student[last_name] = gpa\n",
        "\n",
        "  # Ask if the user wants to enter another student\n",
        "  choice = input(\"Would you like to add another student (y/n): \")\n",
        "\n",
        "# For every student in the dictionary, print their GPA\n",
        "print()\n",
        "for student in GPA_per_student:\n",
        "  print(student + \" has a \" + GPA_per_student[student] + \" for the course.\")\n",
        "\n",
        "# Ask the user to search for a student\n",
        "print()\n",
        "search_name = input(\"Which student would you like to search for: \")\n",
        "\n",
        "# Find the student in the dictionary then print their info\n",
        "for student in GPA_per_student:\n",
        "  if student == search_name:\n",
        "    print(\"The students current GPA is: \" + GPA_per_student[student])"
      ]
    }
  ]
}